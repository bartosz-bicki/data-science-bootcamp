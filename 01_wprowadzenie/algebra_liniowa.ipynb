{
  "nbformat": 4,
  "nbformat_minor": 0,
  "metadata": {
    "colab": {
      "name": "algebra liniowa.ipynb",
      "provenance": [],
      "authorship_tag": "ABX9TyOpttAUWfDRxCp6zQMpTmWt",
      "include_colab_link": true
    },
    "kernelspec": {
      "name": "python3",
      "display_name": "Python 3"
    }
  },
  "cells": [
    {
      "cell_type": "markdown",
      "metadata": {
        "id": "view-in-github",
        "colab_type": "text"
      },
      "source": [
        "<a href=\"https://colab.research.google.com/github/bartosz-bicki/data-science-bootcamp/blob/master/01_wprowadzenie/algebra_liniowa.ipynb\" target=\"_parent\"><img src=\"https://colab.research.google.com/assets/colab-badge.svg\" alt=\"Open In Colab\"/></a>"
      ]
    },
    {
      "cell_type": "code",
      "metadata": {
        "id": "fPBYrS3Xg8Tg",
        "colab_type": "code",
        "colab": {
          "base_uri": "https://localhost:8080/",
          "height": 34
        },
        "outputId": "49578e36-6d29-4a4b-8d36-5a1b1bcd4d79"
      },
      "source": [
        "import numpy as np\n",
        "v1 = np.array([2, 5])\n",
        "v1 \n",
        "np.linalg.norm(v1)"
      ],
      "execution_count": 2,
      "outputs": [
        {
          "output_type": "execute_result",
          "data": {
            "text/plain": [
              "5.385164807134504"
            ]
          },
          "metadata": {
            "tags": []
          },
          "execution_count": 2
        }
      ]
    },
    {
      "cell_type": "markdown",
      "metadata": {
        "id": "8ZtTYwUhiTkb",
        "colab_type": "text"
      },
      "source": [
        "odległosc dwóch pkt"
      ]
    },
    {
      "cell_type": "code",
      "metadata": {
        "id": "ATtptXwciV1u",
        "colab_type": "code",
        "colab": {
          "base_uri": "https://localhost:8080/",
          "height": 34
        },
        "outputId": "a9790f21-2f5e-4d3c-8fd5-2088d00d0251"
      },
      "source": [
        "p = np.array([1,6])\n",
        "q = np.array([4,3])\n",
        "\n",
        "np.linalg.norm(p-q)"
      ],
      "execution_count": 3,
      "outputs": [
        {
          "output_type": "execute_result",
          "data": {
            "text/plain": [
              "4.242640687119285"
            ]
          },
          "metadata": {
            "tags": []
          },
          "execution_count": 3
        }
      ]
    },
    {
      "cell_type": "markdown",
      "metadata": {
        "id": "esu-54awl6tY",
        "colab_type": "text"
      },
      "source": [
        "Rozwiązywanie układów równań "
      ]
    },
    {
      "cell_type": "code",
      "metadata": {
        "id": "zxKL3wtgh98J",
        "colab_type": "code",
        "colab": {}
      },
      "source": [
        "a = np.array([[2, 4], [1, -1]])\n",
        "b = np.array([[10], [-1]])"
      ],
      "execution_count": 5,
      "outputs": []
    },
    {
      "cell_type": "code",
      "metadata": {
        "id": "XPq7Yvk5nBrq",
        "colab_type": "code",
        "colab": {
          "base_uri": "https://localhost:8080/",
          "height": 51
        },
        "outputId": "562bd95c-17c2-4614-ac05-883b53220fc7"
      },
      "source": [
        "a_inv = np.linalg.inv(a)\n",
        "x = np.dot(a_inv,b)\n",
        "x"
      ],
      "execution_count": 6,
      "outputs": [
        {
          "output_type": "execute_result",
          "data": {
            "text/plain": [
              "array([[1.],\n",
              "       [2.]])"
            ]
          },
          "metadata": {
            "tags": []
          },
          "execution_count": 6
        }
      ]
    }
  ]
}